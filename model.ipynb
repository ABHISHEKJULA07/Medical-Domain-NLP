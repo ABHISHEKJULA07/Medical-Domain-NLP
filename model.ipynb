{
 "cells": [
  {
   "cell_type": "markdown",
   "id": "138d96e3",
   "metadata": {},
   "source": [
    "# Medical Domain Identifier using Natural Language Processing"
   ]
  },
  {
   "cell_type": "markdown",
   "id": "f1ccf45f",
   "metadata": {},
   "source": [
    "## 1. Data Collection"
   ]
  },
  {
   "cell_type": "code",
   "execution_count": null,
   "id": "4f09ef57",
   "metadata": {},
   "outputs": [],
   "source": [
    "import kagglehub\n",
    "import os\n",
    "import pandas as pd"
   ]
  },
  {
   "cell_type": "code",
   "execution_count": null,
   "id": "eb9982ec",
   "metadata": {},
   "outputs": [],
   "source": [
    "dataset_path = kagglehub.dataset_download(\"tboyle10/medicaltranscriptions\")\n",
    "df = pd.read_csv(os.path.join(dataset_path, \"mtsamples.csv\"))"
   ]
  },
  {
   "cell_type": "code",
   "execution_count": null,
   "id": "a48b5a8d",
   "metadata": {},
   "outputs": [],
   "source": [
    "print(df.columns)\n",
    "print(df.head())"
   ]
  },
  {
   "cell_type": "markdown",
   "id": "0a08b3a2",
   "metadata": {},
   "source": [
    "## 2. Data Exploration & Preprocessing"
   ]
  },
  {
   "cell_type": "code",
   "execution_count": null,
   "id": "282aa0c0",
   "metadata": {},
   "outputs": [],
   "source": [
    "import nltk\n",
    "from nltk.tokenize import word_tokenize\n",
    "from nltk.tokenize import sent_tokenize\n",
    "\n",
    "nltk.download('punkt')\n",
    "nltk.download('punkt_tab')\n",
    "nltk.download('wordnet')"
   ]
  },
  {
   "cell_type": "code",
   "execution_count": null,
   "id": "e1380192",
   "metadata": {},
   "outputs": [],
   "source": [
    "def get_sentence_word_count(text_list):\n",
    "    sent_count = 0\n",
    "    word_count = 0\n",
    "    vocab = {}\n",
    "    for text in text_list:\n",
    "        sentences = sent_tokenize(str(text).lower())\n",
    "        sent_count = sent_count + len(sentences)\n",
    "        for sentence in sentences:\n",
    "            words = word_tokenize(sentence)\n",
    "            for word in words:\n",
    "                if (word in vocab.keys()):\n",
    "                    vocab[word] = vocab[word] + 1\n",
    "                else:\n",
    "                    vocab[word] = 1\n",
    "    word_count = len(vocab.keys())\n",
    "    return sent_count, word_count"
   ]
  },
  {
   "cell_type": "code",
   "execution_count": null,
   "id": "3bfffcd0",
   "metadata": {},
   "outputs": [],
   "source": [
    "df = df[df['transcription'].notna()]\n",
    "sent_count, word_count = get_sentence_word_count(df['transcription'].tolist())"
   ]
  },
  {
   "cell_type": "code",
   "execution_count": null,
   "id": "d3cfbf7c",
   "metadata": {},
   "outputs": [],
   "source": [
    "print(\"Number of sentences in transcriptions column: \" + str(sent_count))\n",
    "print(\"Number of unique words in transcriptions column: \" + str(word_count))"
   ]
  },
  {
   "cell_type": "code",
   "execution_count": null,
   "id": "67cec633",
   "metadata": {},
   "outputs": [],
   "source": [
    "from tabulate import tabulate"
   ]
  },
  {
   "cell_type": "code",
   "execution_count": null,
   "id": "5c3f7985",
   "metadata": {},
   "outputs": [],
   "source": [
    "df_cat  = df.groupby('medical_specialty')"
   ]
  },
  {
   "cell_type": "code",
   "execution_count": null,
   "id": "fb676bc5",
   "metadata": {},
   "outputs": [],
   "source": [
    "headers = [\"#\", \"Category\", \"Frequency\"]\n",
    "data = [[a + 1, b, len(c)] for a, (b, c) in enumerate(df_cat)]\n",
    "\n",
    "print('Original Categories')\n",
    "print(tabulate(data, headers=headers, tablefmt=\"grid\"))"
   ]
  },
  {
   "cell_type": "code",
   "execution_count": null,
   "id": "e210e555",
   "metadata": {},
   "outputs": [],
   "source": [
    "df_cat_fil = df_cat.filter(lambda x: x.shape[0] > 50)\n",
    "df_cat_fin = df_cat_fil.groupby('medical_specialty')"
   ]
  },
  {
   "cell_type": "code",
   "execution_count": null,
   "id": "f8cb2434",
   "metadata": {},
   "outputs": [],
   "source": [
    "data = [[a + 1, b, len(c)] for a, (b, c) in enumerate(df_cat_fin)]\n",
    "\n",
    "print('Reduced Categories')\n",
    "print(tabulate(data, headers=headers, tablefmt=\"grid\"))"
   ]
  },
  {
   "cell_type": "code",
   "execution_count": null,
   "id": "81cc7481",
   "metadata": {},
   "outputs": [],
   "source": [
    "import random"
   ]
  },
  {
   "cell_type": "code",
   "execution_count": null,
   "id": "c3fab44e",
   "metadata": {},
   "outputs": [],
   "source": [
    "headers = [\"#\", \"Category\", \"Sample Transcription\"]\n",
    "data = [\n",
    "    [\n",
    "        a + 1,\n",
    "        b,\n",
    "        random.choice(c[\"transcription\"].tolist())\n",
    "    ]\n",
    "    for a, (b, c) in enumerate(df_cat_fin)\n",
    "]\n",
    "\n",
    "print(\"Category Transcription Examples\")\n",
    "print(tabulate(data, headers=headers, tablefmt=\"grid\"))"
   ]
  },
  {
   "cell_type": "code",
   "execution_count": null,
   "id": "673e2216",
   "metadata": {},
   "outputs": [],
   "source": [
    "import seaborn as sns\n",
    "import matplotlib.pyplot as plt"
   ]
  },
  {
   "cell_type": "code",
   "execution_count": null,
   "id": "30f0a4c5",
   "metadata": {},
   "outputs": [],
   "source": [
    "plt.figure(figsize=(10,10))\n",
    "sns.countplot(y='medical_specialty', data=df_cat_fil)\n",
    "plt.show()"
   ]
  },
  {
   "cell_type": "code",
   "execution_count": null,
   "id": "b734d729",
   "metadata": {},
   "outputs": [],
   "source": [
    "df_fil = df_cat_fil[['transcription', 'medical_specialty']]\n",
    "df_fil = df_fil.drop(df_fil[df_fil['transcription'].isna()].index)\n",
    "df_fil.shape"
   ]
  },
  {
   "cell_type": "code",
   "execution_count": null,
   "id": "ec3eb9c0",
   "metadata": {},
   "outputs": [],
   "source": [
    "import string\n",
    "import re\n",
    "from nltk.stem import WordNetLemmatizer"
   ]
  },
  {
   "cell_type": "code",
   "execution_count": null,
   "id": "98e6554a",
   "metadata": {},
   "outputs": [],
   "source": [
    "print(\"Before cleaning text:\\n\")\n",
    "print(f'Sample Transcription 1:\\n{df_fil.iloc[5][\"transcription\"]}\\n')\n",
    "print(f'Sample Transcription 2:\\n{df_fil.iloc[125][\"transcription\"]}\\n')\n",
    "print(f'Sample Transcription 3:\\n{df_fil.iloc[1000]['transcription']}')"
   ]
  },
  {
   "cell_type": "code",
   "execution_count": null,
   "id": "b8eea277",
   "metadata": {},
   "outputs": [],
   "source": [
    "def clean_text(text):\n",
    "    text = text.translate(str.maketrans('', '', string.punctuation))\n",
    "    text1 = ''.join([w for w in text if not w.isdigit()])\n",
    "    REPLACE_BY_SPACE_RE = re.compile(r'[/(){}\\[\\]\\|@,;]')\n",
    "\n",
    "    text2 = text1.lower()\n",
    "    text2 = REPLACE_BY_SPACE_RE.sub('', text2)\n",
    "    return text2\n",
    "\n",
    "\n",
    "def lemmatize_text(text):\n",
    "    wordlist = []\n",
    "    lemmatizer = WordNetLemmatizer()\n",
    "    sentences = sent_tokenize(text)\n",
    "\n",
    "    intial_sentences = sentences[0:1]\n",
    "    final_sentences = sentences[len(sentences)-2: len(sentences)-1]\n",
    "\n",
    "    for sentence in intial_sentences:\n",
    "        words = word_tokenize(sentence)\n",
    "        for word in words:\n",
    "            wordlist.append(lemmatizer.lemmatize(word))\n",
    "    for sentence in final_sentences:\n",
    "        words = word_tokenize(sentence)\n",
    "        for word in words:\n",
    "            wordlist.append(lemmatizer.lemmatize(word))\n",
    "    return ' '.join(wordlist)"
   ]
  },
  {
   "cell_type": "code",
   "execution_count": null,
   "id": "0900ae83",
   "metadata": {},
   "outputs": [],
   "source": [
    "df_fil['transcription'] = df_fil['transcription'].apply(lemmatize_text)\n",
    "df_fil['transcription'] = df_fil['transcription'].apply(clean_text)"
   ]
  },
  {
   "cell_type": "code",
   "execution_count": null,
   "id": "a789a7be",
   "metadata": {},
   "outputs": [],
   "source": [
    "print(\"After cleaning text:\\n\")\n",
    "print(f'Sample Transcription 1:\\n{df_fil.iloc[5][\"transcription\"]}\\n')\n",
    "print(f'Sample Transcription 2:\\n{df_fil.iloc[125][\"transcription\"]}\\n')\n",
    "print(f'Sample Transcription 3:\\n{df_fil.iloc[1000]['transcription']}')"
   ]
  },
  {
   "cell_type": "code",
   "execution_count": null,
   "id": "d3d31ac6",
   "metadata": {},
   "outputs": [],
   "source": [
    "from sklearn.feature_extraction.text import TfidfVectorizer"
   ]
  },
  {
   "cell_type": "code",
   "execution_count": null,
   "id": "5f516754",
   "metadata": {},
   "outputs": [],
   "source": [
    "vectorizer = TfidfVectorizer(\n",
    "    analyzer='word', \n",
    "    stop_words='english',\n",
    "    ngram_range=(1,3),\n",
    "    max_df=0.75, \n",
    "    use_idf=True, \n",
    "    smooth_idf=True, \n",
    "    max_features=1000\n",
    ")\n",
    "tf_idf_mat  = vectorizer.fit_transform(df_fil['transcription'].tolist() )\n",
    "feature_names = sorted(vectorizer.get_feature_names_out())\n",
    "print(feature_names)"
   ]
  },
  {
   "cell_type": "code",
   "execution_count": null,
   "id": "81ddf05f",
   "metadata": {},
   "outputs": [],
   "source": [
    "import numpy as np\n",
    "from sklearn.manifold import TSNE"
   ]
  },
  {
   "cell_type": "code",
   "execution_count": null,
   "id": "63cd1578",
   "metadata": {},
   "outputs": [],
   "source": [
    "tf_idf_matrix = np.asarray(tf_idf_mat.todense())\n",
    "labels = df_fil['medical_specialty'].tolist()\n",
    "\n",
    "tsne_results = TSNE(\n",
    "    n_components=2, \n",
    "    init='random', \n",
    "    random_state=0, \n",
    "    perplexity=40\n",
    ").fit_transform(tf_idf_matrix)\n",
    "plt.figure(figsize=(20, 10))\n",
    "\n",
    "palette = sns.hls_palette(12, l=.3, s=.9)\n",
    "sns.scatterplot(\n",
    "    x=tsne_results[:, 0], y=tsne_results[:, 1],\n",
    "    hue=labels,\n",
    "    palette=palette,\n",
    "    legend=\"full\",\n",
    "    alpha=0.3\n",
    ")\n",
    "plt.show()"
   ]
  },
  {
   "cell_type": "markdown",
   "id": "2e02bb3b",
   "metadata": {},
   "source": [
    "## 3. Data Splitting"
   ]
  },
  {
   "cell_type": "code",
   "execution_count": null,
   "id": "ea98990a",
   "metadata": {},
   "outputs": [],
   "source": [
    "from sklearn.decomposition import PCA\n",
    "from sklearn.model_selection import train_test_split"
   ]
  },
  {
   "cell_type": "code",
   "execution_count": null,
   "id": "11ff3408",
   "metadata": {},
   "outputs": [],
   "source": [
    "pca = PCA(n_components=0.95)\n",
    "tf_idf_mat_reduced = pca.fit_transform(tf_idf_mat.toarray())\n",
    "labels = df_fil['medical_specialty'].tolist()\n",
    "category_list = df_fil['medical_specialty'].unique()\n",
    "X_train, X_test, y_train, y_test = train_test_split(\n",
    "    tf_idf_mat_reduced, \n",
    "    labels, \n",
    "    stratify=labels,\n",
    "    random_state=1\n",
    ")"
   ]
  },
  {
   "cell_type": "code",
   "execution_count": null,
   "id": "a4385c07",
   "metadata": {},
   "outputs": [],
   "source": [
    "print(f'Train Set Size: {X_train.shape}')\n",
    "print(f'Test Set Size:  {X_test.shape}')"
   ]
  },
  {
   "cell_type": "markdown",
   "id": "abbcc47e",
   "metadata": {},
   "source": [
    "## 4. Model Training"
   ]
  },
  {
   "cell_type": "code",
   "execution_count": null,
   "id": "759dda83",
   "metadata": {},
   "outputs": [],
   "source": [
    "import itertools\n",
    "from sklearn.ensemble import RandomForestClassifier\n",
    "from sklearn.metrics import accuracy_score"
   ]
  },
  {
   "cell_type": "code",
   "execution_count": null,
   "id": "86344e0f",
   "metadata": {},
   "outputs": [],
   "source": [
    "class GCForest(object):\n",
    "    def __init__(\n",
    "            self,\n",
    "            shape_1X=None,\n",
    "            n_mgsRFtree=30,\n",
    "            window=None,\n",
    "            stride=1,\n",
    "            cascade_test_size=0.2,\n",
    "            n_cascadeRF=2,\n",
    "            n_cascadeRFtree=101,\n",
    "            cascade_layer=np.inf,\n",
    "            min_samples_mgs=0.1,\n",
    "            min_samples_cascade=0.05,\n",
    "            tolerance=0.0,\n",
    "            n_jobs=1\n",
    "    ):\n",
    "        setattr(self, 'shape_1X', shape_1X)\n",
    "        setattr(self, 'n_layer', 0)\n",
    "        setattr(self, '_n_samples', 0)\n",
    "        setattr(self, 'n_cascadeRF', int(n_cascadeRF))\n",
    "\n",
    "        if isinstance(window, int):\n",
    "            setattr(self, 'window', [window])\n",
    "        elif isinstance(window, list):\n",
    "            setattr(self, 'window', window)\n",
    "\n",
    "        setattr(self, 'stride', stride)\n",
    "        setattr(self, 'cascade_test_size', cascade_test_size)\n",
    "        setattr(self, 'n_mgsRFtree', int(n_mgsRFtree))\n",
    "        setattr(self, 'n_cascadeRFtree', int(n_cascadeRFtree))\n",
    "        setattr(self, 'cascade_layer', cascade_layer)\n",
    "        setattr(self, 'min_samples_mgs', min_samples_mgs)\n",
    "        setattr(self, 'min_samples_cascade', min_samples_cascade)\n",
    "        setattr(self, 'tolerance', tolerance)\n",
    "        setattr(self, 'n_jobs', n_jobs)\n",
    "\n",
    "    def fit(self, X, y):\n",
    "        if np.shape(X)[0] != len(y):\n",
    "            raise ValueError('Sizes of y and X do not match.')\n",
    "\n",
    "        mgs_X = self.mg_scanning(X, y)\n",
    "        _ = self.cascade_forest(mgs_X, y)\n",
    "\n",
    "    def predict_proba(self, X):\n",
    "        mgs_X = self.mg_scanning(X)\n",
    "        cascade_all_pred_prob = self.cascade_forest(mgs_X)\n",
    "        predict_proba = np.mean(cascade_all_pred_prob, axis=0)\n",
    "\n",
    "        return predict_proba\n",
    "\n",
    "    def predict(self, X):\n",
    "        pred_proba = self.predict_proba(X=X)\n",
    "        predictions = np.argmax(pred_proba, axis=1)\n",
    "\n",
    "        return predictions\n",
    "\n",
    "    def mg_scanning(self, X, y=None):\n",
    "        setattr(self, '_n_samples', np.shape(X)[0])\n",
    "        shape_1X = getattr(self, 'shape_1X')\n",
    "\n",
    "        if isinstance(shape_1X, int):\n",
    "            shape_1X = [1, shape_1X]\n",
    "\n",
    "        if not getattr(self, 'window'):\n",
    "            setattr(self, 'window', [shape_1X[1]])\n",
    "\n",
    "        mgs_pred_prob = []\n",
    "        for wdw_size in getattr(self, 'window'):\n",
    "            wdw_pred_prob = self.window_slicing_pred_prob(\n",
    "                X,\n",
    "                wdw_size,\n",
    "                shape_1X,\n",
    "                y=y\n",
    "            )\n",
    "            mgs_pred_prob.append(wdw_pred_prob)\n",
    "\n",
    "        return np.concatenate(mgs_pred_prob, axis=1)\n",
    "\n",
    "    def window_slicing_pred_prob(self, X, window, shape_1X, y=None):\n",
    "        n_tree = getattr(self, 'n_mgsRFtree')\n",
    "        min_samples = getattr(self, 'min_samples_mgs')\n",
    "        stride = getattr(self, 'stride')\n",
    "\n",
    "        if shape_1X[0] > 1:\n",
    "            print('Slicing Images...')\n",
    "            sliced_X, sliced_y = self._window_slicing_img(\n",
    "                X, window, shape_1X, y=y, stride=stride)\n",
    "        else:\n",
    "            print('Slicing Sequence...')\n",
    "            sliced_X, sliced_y = self._window_slicing_sequence(\n",
    "                X, window, shape_1X, y=y, stride=stride)\n",
    "\n",
    "        if y is not None:\n",
    "            n_jobs = getattr(self, 'n_jobs')\n",
    "            prf = RandomForestClassifier(\n",
    "                n_estimators=n_tree,\n",
    "                max_features='sqrt',\n",
    "                min_samples_split=min_samples,\n",
    "                oob_score=True,\n",
    "                n_jobs=n_jobs\n",
    "            )\n",
    "            crf = RandomForestClassifier(\n",
    "                n_estimators=n_tree,\n",
    "                max_features=1,\n",
    "                min_samples_split=min_samples,\n",
    "                oob_score=True,\n",
    "                n_jobs=n_jobs\n",
    "            )\n",
    "            print('Training MGS Random Forests...')\n",
    "            prf.fit(sliced_X, sliced_y)\n",
    "            crf.fit(sliced_X, sliced_y)\n",
    "            setattr(self, '_mgsprf_{}'.format(window), prf)\n",
    "            setattr(self, '_mgscrf_{}'.format(window), crf)\n",
    "            pred_prob_prf = prf.oob_decision_function_\n",
    "            pred_prob_crf = crf.oob_decision_function_\n",
    "\n",
    "        if hasattr(self, '_mgsprf_{}'.format(window)) and y is None:\n",
    "            prf = getattr(self, '_mgsprf_{}'.format(window))\n",
    "            crf = getattr(self, '_mgscrf_{}'.format(window))\n",
    "            pred_prob_prf = prf.predict_proba(sliced_X)\n",
    "            pred_prob_crf = crf.predict_proba(sliced_X)\n",
    "\n",
    "        pred_prob = np.c_[pred_prob_prf, pred_prob_crf]\n",
    "\n",
    "        return pred_prob.reshape([getattr(self, '_n_samples'), -1])\n",
    "\n",
    "    def _window_slicing_img(self, X, window, shape_1X, y=None, stride=1):\n",
    "        if any(s < window for s in shape_1X):\n",
    "            raise ValueError(\n",
    "                'window must be smaller than both dimensions for an image')\n",
    "\n",
    "        len_iter_x = np.floor_divide((shape_1X[1] - window), stride) + 1\n",
    "        len_iter_y = np.floor_divide((shape_1X[0] - window), stride) + 1\n",
    "        iterx_array = np.arange(0, stride*len_iter_x, stride)\n",
    "        itery_array = np.arange(0, stride*len_iter_y, stride)\n",
    "\n",
    "        ref_row = np.arange(0, window)\n",
    "        ref_ind = np.ravel([ref_row + shape_1X[1] * i for i in range(window)])\n",
    "        inds_to_take = [ref_ind + ix + shape_1X[1] * iy\n",
    "                        for ix, iy in itertools.product(iterx_array, itery_array)]\n",
    "\n",
    "        sliced_imgs = np.take(X, inds_to_take, axis=1).reshape(-1, window**2)\n",
    "\n",
    "        if y is not None:\n",
    "            sliced_target = np.repeat(y, len_iter_x * len_iter_y)\n",
    "        elif y is None:\n",
    "            sliced_target = None\n",
    "\n",
    "        return sliced_imgs, sliced_target\n",
    "\n",
    "    def _window_slicing_sequence(self, X, window, shape_1X, y=None, stride=1):\n",
    "        if shape_1X[1] < window:\n",
    "            raise ValueError(\n",
    "                'window must be smaller than the sequence dimension')\n",
    "\n",
    "        len_iter = np.floor_divide((shape_1X[1] - window), stride) + 1\n",
    "        iter_array = np.arange(0, stride*len_iter, stride)\n",
    "\n",
    "        ind_1X = np.arange(np.prod(shape_1X))\n",
    "        inds_to_take = [ind_1X[i:i+window] for i in iter_array]\n",
    "        sliced_sqce = np.take(X, inds_to_take, axis=1).reshape(-1, window)\n",
    "\n",
    "        if y is not None:\n",
    "            sliced_target = np.repeat(y, len_iter)\n",
    "        elif y is None:\n",
    "            sliced_target = None\n",
    "\n",
    "        return sliced_sqce, sliced_target\n",
    "\n",
    "    def cascade_forest(self, X, y=None):\n",
    "        if y is not None:\n",
    "            setattr(self, 'n_layer', 0)\n",
    "            test_size = getattr(self, 'cascade_test_size')\n",
    "            max_layers = getattr(self, 'cascade_layer')\n",
    "            tol = getattr(self, 'tolerance')\n",
    "\n",
    "            X_train, X_test, y_train, y_test = train_test_split(\n",
    "                X,\n",
    "                y,\n",
    "                test_size=test_size\n",
    "            )\n",
    "\n",
    "            self.n_layer += 1\n",
    "            prf_crf_pred_ref = self._cascade_layer(X_train, y_train)\n",
    "            accuracy_ref = self._cascade_evaluation(X_test, y_test)\n",
    "            feat_arr = self._create_feat_arr(X_train, prf_crf_pred_ref)\n",
    "\n",
    "            self.n_layer += 1\n",
    "            prf_crf_pred_layer = self._cascade_layer(feat_arr, y_train)\n",
    "            accuracy_layer = self._cascade_evaluation(X_test, y_test)\n",
    "\n",
    "            while accuracy_layer > (accuracy_ref + tol) and self.n_layer <= max_layers:\n",
    "                accuracy_ref = accuracy_layer\n",
    "                prf_crf_pred_ref = prf_crf_pred_layer\n",
    "                feat_arr = self._create_feat_arr(X_train, prf_crf_pred_ref)\n",
    "                self.n_layer += 1\n",
    "                prf_crf_pred_layer = self._cascade_layer(feat_arr, y_train)\n",
    "                accuracy_layer = self._cascade_evaluation(X_test, y_test)\n",
    "\n",
    "            if accuracy_layer < accuracy_ref:\n",
    "                n_cascadeRF = getattr(self, 'n_cascadeRF')\n",
    "                for irf in range(n_cascadeRF):\n",
    "                    delattr(self, '_casprf{}_{}'.format(self.n_layer, irf))\n",
    "                    delattr(self, '_cascrf{}_{}'.format(self.n_layer, irf))\n",
    "                self.n_layer -= 1\n",
    "\n",
    "        elif y is None:\n",
    "            at_layer = 1\n",
    "            prf_crf_pred_ref = self._cascade_layer(X, layer=at_layer)\n",
    "            while at_layer < getattr(self, 'n_layer'):\n",
    "                at_layer += 1\n",
    "                feat_arr = self._create_feat_arr(X, prf_crf_pred_ref)\n",
    "                prf_crf_pred_ref = self._cascade_layer(\n",
    "                    feat_arr, layer=at_layer)\n",
    "\n",
    "        return prf_crf_pred_ref\n",
    "\n",
    "    def _cascade_layer(self, X, y=None, layer=0):\n",
    "        n_tree = getattr(self, 'n_cascadeRFtree')\n",
    "        n_cascadeRF = getattr(self, 'n_cascadeRF')\n",
    "        min_samples = getattr(self, 'min_samples_cascade')\n",
    "\n",
    "        n_jobs = getattr(self, 'n_jobs')\n",
    "        prf = RandomForestClassifier(\n",
    "            n_estimators=n_tree,\n",
    "            max_features='sqrt',\n",
    "            min_samples_split=min_samples,\n",
    "            oob_score=True,\n",
    "            n_jobs=n_jobs\n",
    "        )\n",
    "        crf = RandomForestClassifier(\n",
    "            n_estimators=n_tree,\n",
    "            max_features=1,\n",
    "            min_samples_split=min_samples,\n",
    "            oob_score=True,\n",
    "            n_jobs=n_jobs\n",
    "        )\n",
    "\n",
    "        prf_crf_pred = []\n",
    "        if y is not None:\n",
    "            print('Adding/Training Layer, n_layer={}'.format(self.n_layer))\n",
    "            for irf in range(n_cascadeRF):\n",
    "                prf.fit(X, y)\n",
    "                crf.fit(X, y)\n",
    "                setattr(self, '_casprf{}_{}'.format(self.n_layer, irf), prf)\n",
    "                setattr(self, '_cascrf{}_{}'.format(self.n_layer, irf), crf)\n",
    "                prf_crf_pred.append(prf.oob_decision_function_)\n",
    "                prf_crf_pred.append(crf.oob_decision_function_)\n",
    "        elif y is None:\n",
    "            for irf in range(n_cascadeRF):\n",
    "                prf = getattr(self, '_casprf{}_{}'.format(layer, irf))\n",
    "                crf = getattr(self, '_cascrf{}_{}'.format(layer, irf))\n",
    "                prf_crf_pred.append(prf.predict_proba(X))\n",
    "                prf_crf_pred.append(crf.predict_proba(X))\n",
    "\n",
    "        return prf_crf_pred\n",
    "\n",
    "    def _cascade_evaluation(self, X_test, y_test):\n",
    "        casc_pred_prob = np.mean(self.cascade_forest(X_test), axis=0)\n",
    "        casc_pred = np.argmax(casc_pred_prob, axis=1)\n",
    "        casc_accuracy = accuracy_score(y_true=y_test, y_pred=casc_pred)\n",
    "        print('Layer validation accuracy = {}'.format(casc_accuracy))\n",
    "\n",
    "        return casc_accuracy\n",
    "\n",
    "    def _create_feat_arr(self, X, prf_crf_pred):\n",
    "        swap_pred = np.swapaxes(prf_crf_pred, 0, 1)\n",
    "        add_feat = swap_pred.reshape([np.shape(X)[0], -1])\n",
    "        feat_arr = np.concatenate([add_feat, X], axis=1)\n",
    "\n",
    "        return feat_arr"
   ]
  },
  {
   "cell_type": "code",
   "execution_count": null,
   "id": "32b92d70",
   "metadata": {},
   "outputs": [],
   "source": [
    "gcf = GCForest(n_cascadeRF=2,n_cascadeRFtree=500)\n",
    "temp = gcf.cascade_forest(X_train, y_train)"
   ]
  },
  {
   "cell_type": "code",
   "execution_count": null,
   "id": "33e49922",
   "metadata": {},
   "outputs": [],
   "source": [
    "labels"
   ]
  },
  {
   "cell_type": "markdown",
   "id": "9f7cc60e",
   "metadata": {},
   "source": [
    "## 5. Model Evaluation"
   ]
  },
  {
   "cell_type": "code",
   "execution_count": null,
   "id": "9d0e0a36",
   "metadata": {},
   "outputs": [],
   "source": [
    "y_test_pred = gcf.cascade_forest(X_test)\n",
    "labels = category_list"
   ]
  },
  {
   "cell_type": "code",
   "execution_count": null,
   "id": "95b75b08",
   "metadata": {},
   "outputs": [],
   "source": [
    "temp_array = []\n",
    "for i in range(len(y_test_pred[0])):\n",
    "    cur_tuple_pred = []\n",
    "    for j in range(len(y_test_pred[0][0])):\n",
    "        cur_tuple_pred.append(\n",
    "            (\n",
    "                y_test_pred[0][i][j] +\n",
    "                y_test_pred[1][i][j] +\n",
    "                y_test_pred[2][i][j] +\n",
    "                y_test_pred[3][i][j]\n",
    "            ) / 4\n",
    "        )\n",
    "    temp_array.append(cur_tuple_pred)"
   ]
  },
  {
   "cell_type": "code",
   "execution_count": null,
   "id": "9827544e",
   "metadata": {},
   "outputs": [],
   "source": [
    "temp_array = y_test_pred[3]\n",
    "label_pred = []\n",
    "for i in range(len(temp_array)):\n",
    "    label_pred.append(\n",
    "        labels[temp_array[i].tolist().index(max(temp_array[i]))]\n",
    "    )"
   ]
  },
  {
   "cell_type": "code",
   "execution_count": null,
   "id": "61ace1e6",
   "metadata": {},
   "outputs": [],
   "source": [
    "label_pred"
   ]
  },
  {
   "cell_type": "code",
   "execution_count": null,
   "id": "01895aa1",
   "metadata": {},
   "outputs": [],
   "source": [
    "from sklearn.metrics import confusion_matrix"
   ]
  },
  {
   "cell_type": "code",
   "execution_count": null,
   "id": "16c4be2a",
   "metadata": {},
   "outputs": [],
   "source": [
    "fig = plt.figure(figsize=(20, 20))\n",
    "ax = fig.add_subplot(1, 1, 1)\n",
    "sns.heatmap(confusion_matrix(y_test, label_pred), annot=True, cmap=\"Greens\", ax=ax, fmt='g')\n",
    "\n",
    "ax.set_xlabel('Predicted labels')\n",
    "ax.set_ylabel('True labels')\n",
    "ax.set_title('Confusion Matrix')\n",
    "ax.xaxis.set_ticklabels(labels)\n",
    "ax.yaxis.set_ticklabels(labels)\n",
    "\n",
    "plt.setp(ax.get_yticklabels(), rotation=30, horizontalalignment='right')\n",
    "plt.setp(ax.get_xticklabels(), rotation=30, horizontalalignment='right')\n",
    "plt.show()"
   ]
  },
  {
   "cell_type": "code",
   "execution_count": null,
   "id": "73811d7a",
   "metadata": {},
   "outputs": [],
   "source": []
  }
 ],
 "metadata": {
  "kernelspec": {
   "display_name": "venv",
   "language": "python",
   "name": "python3"
  },
  "language_info": {
   "codemirror_mode": {
    "name": "ipython",
    "version": 3
   },
   "file_extension": ".py",
   "mimetype": "text/x-python",
   "name": "python",
   "nbconvert_exporter": "python",
   "pygments_lexer": "ipython3",
   "version": "3.13.5"
  }
 },
 "nbformat": 4,
 "nbformat_minor": 5
}
