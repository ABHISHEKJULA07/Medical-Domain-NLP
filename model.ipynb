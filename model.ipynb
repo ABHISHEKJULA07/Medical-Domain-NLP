{
 "cells": [
  {
   "cell_type": "markdown",
   "id": "138d96e3",
   "metadata": {},
   "source": [
    "# Medical Domain Identifier using Natural Language Processing"
   ]
  },
  {
   "cell_type": "markdown",
   "id": "f1ccf45f",
   "metadata": {},
   "source": [
    "## 1. Data Collection"
   ]
  },
  {
   "cell_type": "code",
   "execution_count": null,
   "id": "4f09ef57",
   "metadata": {},
   "outputs": [],
   "source": [
    "import kagglehub\n",
    "import os\n",
    "import pandas as pd"
   ]
  },
  {
   "cell_type": "code",
   "execution_count": null,
   "id": "eb9982ec",
   "metadata": {},
   "outputs": [],
   "source": [
    "dataset_path = kagglehub.dataset_download(\"tboyle10/medicaltranscriptions\")\n",
    "df = pd.read_csv(os.path.join(dataset_path, \"mtsamples.csv\"))"
   ]
  },
  {
   "cell_type": "code",
   "execution_count": null,
   "id": "a48b5a8d",
   "metadata": {},
   "outputs": [],
   "source": [
    "print(df.columns)\n",
    "print(df.head())"
   ]
  },
  {
   "cell_type": "markdown",
   "id": "0a08b3a2",
   "metadata": {},
   "source": [
    "## 2. Data Exploration & Preprocessing"
   ]
  },
  {
   "cell_type": "code",
   "execution_count": null,
   "id": "282aa0c0",
   "metadata": {},
   "outputs": [],
   "source": [
    "import nltk\n",
    "from nltk.tokenize import word_tokenize\n",
    "from nltk.tokenize import sent_tokenize\n",
    "\n",
    "nltk.download('punkt')\n",
    "nltk.download('punkt_tab')\n",
    "nltk.download('wordnet')"
   ]
  },
  {
   "cell_type": "code",
   "execution_count": null,
   "id": "e1380192",
   "metadata": {},
   "outputs": [],
   "source": [
    "def get_sentence_word_count(text_list):\n",
    "    sent_count = 0\n",
    "    word_count = 0\n",
    "    vocab = {}\n",
    "    for text in text_list:\n",
    "        sentences = sent_tokenize(str(text).lower())\n",
    "        sent_count = sent_count + len(sentences)\n",
    "        for sentence in sentences:\n",
    "            words = word_tokenize(sentence)\n",
    "            for word in words:\n",
    "                if (word in vocab.keys()):\n",
    "                    vocab[word] = vocab[word] + 1\n",
    "                else:\n",
    "                    vocab[word] = 1\n",
    "    word_count = len(vocab.keys())\n",
    "    return sent_count, word_count"
   ]
  },
  {
   "cell_type": "code",
   "execution_count": null,
   "id": "3bfffcd0",
   "metadata": {},
   "outputs": [],
   "source": [
    "df = df[df['transcription'].notna()]\n",
    "sent_count, word_count = get_sentence_word_count(df['transcription'].tolist())"
   ]
  },
  {
   "cell_type": "code",
   "execution_count": null,
   "id": "d3cfbf7c",
   "metadata": {},
   "outputs": [],
   "source": [
    "print(\"Number of sentences in transcriptions column: \" + str(sent_count))\n",
    "print(\"Number of unique words in transcriptions column: \" + str(word_count))"
   ]
  },
  {
   "cell_type": "code",
   "execution_count": null,
   "id": "67cec633",
   "metadata": {},
   "outputs": [],
   "source": [
    "from tabulate import tabulate"
   ]
  },
  {
   "cell_type": "code",
   "execution_count": null,
   "id": "5c3f7985",
   "metadata": {},
   "outputs": [],
   "source": [
    "df_cat  = df.groupby('medical_specialty')"
   ]
  },
  {
   "cell_type": "code",
   "execution_count": null,
   "id": "fb676bc5",
   "metadata": {},
   "outputs": [],
   "source": [
    "headers = [\"#\", \"Category\", \"Frequency\"]\n",
    "data = [[a + 1, b, len(c)] for a, (b, c) in enumerate(df_cat)]\n",
    "\n",
    "print('Original Categories')\n",
    "print(tabulate(data, headers=headers, tablefmt=\"grid\"))"
   ]
  },
  {
   "cell_type": "code",
   "execution_count": null,
   "id": "e210e555",
   "metadata": {},
   "outputs": [],
   "source": [
    "df_cat_fil = df_cat.filter(lambda x: x.shape[0] > 50)\n",
    "df_cat_fin = df_cat_fil.groupby('medical_specialty')"
   ]
  },
  {
   "cell_type": "code",
   "execution_count": null,
   "id": "f8cb2434",
   "metadata": {},
   "outputs": [],
   "source": [
    "data = [[a + 1, b, len(c)] for a, (b, c) in enumerate(df_cat_fin)]\n",
    "\n",
    "print('Reduced Categories')\n",
    "print(tabulate(data, headers=headers, tablefmt=\"grid\"))"
   ]
  },
  {
   "cell_type": "code",
   "execution_count": null,
   "id": "81cc7481",
   "metadata": {},
   "outputs": [],
   "source": [
    "import random"
   ]
  },
  {
   "cell_type": "code",
   "execution_count": null,
   "id": "c3fab44e",
   "metadata": {},
   "outputs": [],
   "source": [
    "headers = [\"#\", \"Category\", \"Sample Transcription\"]\n",
    "data = [\n",
    "    [\n",
    "        a + 1,\n",
    "        b,\n",
    "        random.choice(c[\"transcription\"].tolist())\n",
    "    ]\n",
    "    for a, (b, c) in enumerate(df_cat_fin)\n",
    "]\n",
    "\n",
    "print(\"Category Transcription Examples\")\n",
    "print(tabulate(data, headers=headers, tablefmt=\"grid\"))"
   ]
  },
  {
   "cell_type": "code",
   "execution_count": null,
   "id": "673e2216",
   "metadata": {},
   "outputs": [],
   "source": [
    "import seaborn as sns\n",
    "import matplotlib.pyplot as plt"
   ]
  },
  {
   "cell_type": "code",
   "execution_count": null,
   "id": "30f0a4c5",
   "metadata": {},
   "outputs": [],
   "source": [
    "plt.figure(figsize=(10,10))\n",
    "sns.countplot(y='medical_specialty', data=df_cat_fil)\n",
    "plt.show()"
   ]
  },
  {
   "cell_type": "code",
   "execution_count": null,
   "id": "b734d729",
   "metadata": {},
   "outputs": [],
   "source": [
    "df_fil = df_cat_fil[['transcription', 'medical_specialty']]\n",
    "df_fil = df_fil.drop(df_fil[df_fil['transcription'].isna()].index)\n",
    "df_fil.shape"
   ]
  },
  {
   "cell_type": "code",
   "execution_count": null,
   "id": "98e6554a",
   "metadata": {},
   "outputs": [],
   "source": [
    "print(\"Before cleaning text:\\n\")\n",
    "print(f'Sample Transcription 1:\\n{df_fil.iloc[5][\"transcription\"]}\\n')\n",
    "print(f'Sample Transcription 2:\\n{df_fil.iloc[125][\"transcription\"]}\\n')\n",
    "print(f'Sample Transcription 3:\\n{df_fil.iloc[1000]['transcription']}')"
   ]
  },
  {
   "cell_type": "code",
   "execution_count": null,
   "id": "ec3eb9c0",
   "metadata": {},
   "outputs": [],
   "source": [
    "import re\n",
    "from nltk.stem import WordNetLemmatizer\n",
    "from nltk.corpus import stopwords\n",
    "\n",
    "nltk.download('wordnet')\n",
    "nltk.download('stopwords')"
   ]
  },
  {
   "cell_type": "code",
   "execution_count": null,
   "id": "b8eea277",
   "metadata": {},
   "outputs": [],
   "source": [
    "def clean_and_preprocess_text(text):\n",
    "    if pd.isna(text):\n",
    "        return \"\"\n",
    "    \n",
    "    text = str(text).lower()\n",
    "    text = re.sub(r'[^\\w\\s]', ' ', text)\n",
    "    text = re.sub(r'\\d+', '', text)\n",
    "    text = re.sub(r'\\s+', ' ', text).strip()\n",
    "    \n",
    "    lemmatizer = WordNetLemmatizer()\n",
    "    stop_words = set(stopwords.words('english'))\n",
    "    \n",
    "    tokens = word_tokenize(text)\n",
    "    tokens = [lemmatizer.lemmatize(token) for token in tokens \n",
    "              if token not in stop_words and len(token) > 2]\n",
    "    \n",
    "    return ' '.join(tokens)"
   ]
  },
  {
   "cell_type": "code",
   "execution_count": null,
   "id": "0900ae83",
   "metadata": {},
   "outputs": [],
   "source": [
    "df_fil['transcription'] = df_fil['transcription'].apply(\n",
    "    clean_and_preprocess_text\n",
    ")"
   ]
  },
  {
   "cell_type": "code",
   "execution_count": null,
   "id": "a789a7be",
   "metadata": {},
   "outputs": [],
   "source": [
    "print(\"After cleaning text:\\n\")\n",
    "print(f'Sample Transcription 1:\\n{df_fil.iloc[5][\"transcription\"]}\\n')\n",
    "print(f'Sample Transcription 2:\\n{df_fil.iloc[125][\"transcription\"]}\\n')\n",
    "print(f'Sample Transcription 3:\\n{df_fil.iloc[1000]['transcription']}')"
   ]
  },
  {
   "cell_type": "code",
   "execution_count": null,
   "id": "d3d31ac6",
   "metadata": {},
   "outputs": [],
   "source": [
    "from sklearn.feature_extraction.text import TfidfVectorizer"
   ]
  },
  {
   "cell_type": "code",
   "execution_count": null,
   "id": "5f516754",
   "metadata": {},
   "outputs": [],
   "source": [
    "vectorizer = TfidfVectorizer(\n",
    "    analyzer='word', \n",
    "    stop_words='english',\n",
    "    ngram_range=(1,3),\n",
    "    max_df=0.75, \n",
    "    use_idf=True, \n",
    "    smooth_idf=True, \n",
    "    max_features=1000\n",
    ")\n",
    "tf_idf_mat  = vectorizer.fit_transform(df_fil['transcription'].tolist() )\n",
    "feature_names = sorted(vectorizer.get_feature_names_out())\n",
    "print(feature_names)"
   ]
  },
  {
   "cell_type": "code",
   "execution_count": null,
   "id": "81ddf05f",
   "metadata": {},
   "outputs": [],
   "source": [
    "import numpy as np\n",
    "from sklearn.manifold import TSNE"
   ]
  },
  {
   "cell_type": "code",
   "execution_count": null,
   "id": "63cd1578",
   "metadata": {},
   "outputs": [],
   "source": [
    "tf_idf_matrix = np.asarray(tf_idf_mat.todense())\n",
    "labels = df_fil['medical_specialty'].tolist()\n",
    "\n",
    "tsne_results = TSNE(\n",
    "    n_components=2, \n",
    "    init='random', \n",
    "    random_state=0, \n",
    "    perplexity=40\n",
    ").fit_transform(tf_idf_matrix)\n",
    "plt.figure(figsize=(20, 10))\n",
    "\n",
    "palette = sns.hls_palette(12, l=.3, s=.9)\n",
    "sns.scatterplot(\n",
    "    x=tsne_results[:, 0], y=tsne_results[:, 1],\n",
    "    hue=labels,\n",
    "    palette=palette,\n",
    "    legend=\"full\",\n",
    "    alpha=0.3\n",
    ")\n",
    "plt.show()"
   ]
  },
  {
   "cell_type": "code",
   "execution_count": null,
   "id": "633a3de9",
   "metadata": {},
   "outputs": [],
   "source": [
    "from sklearn.preprocessing import LabelEncoder"
   ]
  },
  {
   "cell_type": "code",
   "execution_count": null,
   "id": "2944dd36",
   "metadata": {},
   "outputs": [],
   "source": [
    "label_encoder = LabelEncoder()\n",
    "y = label_encoder.fit_transform(df_fil['medical_specialty'])\n",
    "classes = label_encoder.classes_"
   ]
  },
  {
   "cell_type": "code",
   "execution_count": null,
   "id": "9b83f31c",
   "metadata": {},
   "outputs": [],
   "source": [
    "print(f\"Classes: {classes}\")\n",
    "print(f\"Class distribution:\")\n",
    "unique, counts = np.unique(y, return_counts=True)\n",
    "for cls, count in zip(classes, counts):\n",
    "    print(f\"  {cls}: {count}\")"
   ]
  },
  {
   "cell_type": "markdown",
   "id": "2e02bb3b",
   "metadata": {},
   "source": [
    "## 3. Data Splitting"
   ]
  },
  {
   "cell_type": "code",
   "execution_count": null,
   "id": "ea98990a",
   "metadata": {},
   "outputs": [],
   "source": [
    "from sklearn.decomposition import PCA\n",
    "from sklearn.model_selection import train_test_split"
   ]
  },
  {
   "cell_type": "code",
   "execution_count": null,
   "id": "11ff3408",
   "metadata": {},
   "outputs": [],
   "source": [
    "pca = PCA(n_components=0.95)\n",
    "tf_idf_mat_reduced = pca.fit_transform(tf_idf_mat.toarray())\n",
    "labels = df_fil['medical_specialty'].tolist()\n",
    "category_list = df_fil['medical_specialty'].unique()\n",
    "X_train, X_test, y_train, y_test = train_test_split(\n",
    "    tf_idf_mat_reduced, \n",
    "    labels, \n",
    "    stratify=labels,\n",
    "    random_state=1\n",
    ")"
   ]
  },
  {
   "cell_type": "code",
   "execution_count": null,
   "id": "a4385c07",
   "metadata": {},
   "outputs": [],
   "source": [
    "print(f'Train Set Size: {X_train.shape}')\n",
    "print(f'Test Set Size:  {X_test.shape}')"
   ]
  },
  {
   "cell_type": "markdown",
   "id": "abbcc47e",
   "metadata": {},
   "source": [
    "## 4. Model Training"
   ]
  },
  {
   "cell_type": "code",
   "execution_count": null,
   "id": "759dda83",
   "metadata": {},
   "outputs": [],
   "source": [
    "from sklearn.ensemble import RandomForestClassifier"
   ]
  },
  {
   "cell_type": "code",
   "execution_count": null,
   "id": "86344e0f",
   "metadata": {},
   "outputs": [],
   "source": [
    "rf_model = RandomForestClassifier(\n",
    "    n_estimators=200,\n",
    "    max_depth=20,\n",
    "    min_samples_split=5,\n",
    "    min_samples_leaf=2,\n",
    "    random_state=42,\n",
    "    class_weight='balanced',\n",
    "    n_jobs=-1\n",
    ")\n",
    "\n",
    "print(\"Training Random Forest model...\")\n",
    "rf_model.fit(X_train, y_train)"
   ]
  },
  {
   "cell_type": "markdown",
   "id": "9f7cc60e",
   "metadata": {},
   "source": [
    "## 5. Model Evaluation"
   ]
  },
  {
   "cell_type": "code",
   "execution_count": null,
   "id": "32b92d70",
   "metadata": {},
   "outputs": [],
   "source": [
    "y_train_pred = rf_model.predict(X_train)\n",
    "y_test_pred = rf_model.predict(X_test)"
   ]
  },
  {
   "cell_type": "code",
   "execution_count": null,
   "id": "94c8fb33",
   "metadata": {},
   "outputs": [],
   "source": [
    "from sklearn.metrics import accuracy_score"
   ]
  },
  {
   "cell_type": "code",
   "execution_count": null,
   "id": "9d0e0a36",
   "metadata": {},
   "outputs": [],
   "source": [
    "train_accuracy = accuracy_score(y_train, y_train_pred)\n",
    "test_accuracy = accuracy_score(y_test, y_test_pred)\n",
    "\n",
    "print(f\"Training Accuracy: {train_accuracy:.4f}\")\n",
    "print(f\"Test Accuracy: {test_accuracy:.4f}\")"
   ]
  },
  {
   "cell_type": "code",
   "execution_count": null,
   "id": "9a603978",
   "metadata": {},
   "outputs": [],
   "source": [
    "from sklearn.metrics import classification_report"
   ]
  },
  {
   "cell_type": "code",
   "execution_count": null,
   "id": "1cadc7ec",
   "metadata": {},
   "outputs": [],
   "source": [
    "print(\"Classification Report:\")\n",
    "print(classification_report(y_test, y_test_pred, target_names=classes))"
   ]
  },
  {
   "cell_type": "code",
   "execution_count": null,
   "id": "01895aa1",
   "metadata": {},
   "outputs": [],
   "source": [
    "from sklearn.metrics import confusion_matrix"
   ]
  },
  {
   "cell_type": "code",
   "execution_count": null,
   "id": "16c4be2a",
   "metadata": {},
   "outputs": [],
   "source": [
    "fig = plt.figure(figsize=(20, 20))\n",
    "ax = fig.add_subplot(1, 1, 1)\n",
    "sns.heatmap(confusion_matrix(y_test, y_test_pred), annot=True, cmap=\"Greens\", ax=ax, fmt='g')"
   ]
  },
  {
   "cell_type": "code",
   "execution_count": null,
   "id": "73811d7a",
   "metadata": {},
   "outputs": [],
   "source": []
  }
 ],
 "metadata": {
  "kernelspec": {
   "display_name": "venv",
   "language": "python",
   "name": "python3"
  },
  "language_info": {
   "codemirror_mode": {
    "name": "ipython",
    "version": 3
   },
   "file_extension": ".py",
   "mimetype": "text/x-python",
   "name": "python",
   "nbconvert_exporter": "python",
   "pygments_lexer": "ipython3",
   "version": "3.13.5"
  }
 },
 "nbformat": 4,
 "nbformat_minor": 5
}
